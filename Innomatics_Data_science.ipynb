{
  "nbformat": 4,
  "nbformat_minor": 0,
  "metadata": {
    "colab": {
      "provenance": [],
      "authorship_tag": "ABX9TyNbFPIpwI7FyKgojFztLYto",
      "include_colab_link": true
    },
    "kernelspec": {
      "name": "python3",
      "display_name": "Python 3"
    },
    "language_info": {
      "name": "python"
    }
  },
  "cells": [
    {
      "cell_type": "markdown",
      "metadata": {
        "id": "view-in-github",
        "colab_type": "text"
      },
      "source": [
        "<a href=\"https://colab.research.google.com/github/Aadi-stack/Computer-Vision-Tutorial/blob/main/Innomatics_Data_science.ipynb\" target=\"_parent\"><img src=\"https://colab.research.google.com/assets/colab-badge.svg\" alt=\"Open In Colab\"/></a>"
      ]
    },
    {
      "cell_type": "code",
      "execution_count": 28,
      "metadata": {
        "id": "bQPsw42sYkcn"
      },
      "outputs": [],
      "source": [
        "import pandas as pd\n",
        "import numpy as np\n",
        "import seaborn as sns\n",
        "import matplotlib.pyplot as plt\n"
      ]
    },
    {
      "cell_type": "code",
      "source": [
        "movies=pd.read_csv('/content/movies.csv')\n",
        "ratings=pd.read_csv('/content/ratings.csv')\n",
        "tags=pd.read_csv('/content/tags.csv')\n",
        "link=pd.read_csv('/content/links.csv')\n"
      ],
      "metadata": {
        "id": "4GQzk1IRZBqt"
      },
      "execution_count": 29,
      "outputs": []
    },
    {
      "cell_type": "code",
      "source": [
        "movies.shape"
      ],
      "metadata": {
        "colab": {
          "base_uri": "https://localhost:8080/"
        },
        "id": "UUl9Md37ZBws",
        "outputId": "1154fce8-7e7c-46f3-9cba-0dc30611951e"
      },
      "execution_count": 3,
      "outputs": [
        {
          "output_type": "execute_result",
          "data": {
            "text/plain": [
              "(9742, 3)"
            ]
          },
          "metadata": {},
          "execution_count": 3
        }
      ]
    },
    {
      "cell_type": "code",
      "source": [
        "ratings.shape"
      ],
      "metadata": {
        "colab": {
          "base_uri": "https://localhost:8080/"
        },
        "id": "n7egf_LjZdEI",
        "outputId": "aa4a67f0-9d93-4b39-f6bb-27e2efe4d6bc"
      },
      "execution_count": 4,
      "outputs": [
        {
          "output_type": "execute_result",
          "data": {
            "text/plain": [
              "(100836, 4)"
            ]
          },
          "metadata": {},
          "execution_count": 4
        }
      ]
    },
    {
      "cell_type": "code",
      "source": [
        "ratings['userId'].nunique()"
      ],
      "metadata": {
        "colab": {
          "base_uri": "https://localhost:8080/"
        },
        "id": "TseNrrLDZBzM",
        "outputId": "f1a520d5-730f-4bc4-9d06-c4d6a0d940d0"
      },
      "execution_count": 7,
      "outputs": [
        {
          "output_type": "execute_result",
          "data": {
            "text/plain": [
              "610"
            ]
          },
          "metadata": {},
          "execution_count": 7
        }
      ]
    },
    {
      "cell_type": "code",
      "source": [
        "\n",
        "\n",
        "ratings[ratings['movieId'] == 1].plot(kind='hist')\n",
        "plt.show()\n"
      ],
      "metadata": {
        "colab": {
          "base_uri": "https://localhost:8080/",
          "height": 448
        },
        "id": "XUD64rKdZB16",
        "outputId": "695fa112-bba5-476a-ea16-2c127c7ab84c"
      },
      "execution_count": 60,
      "outputs": [
        {
          "output_type": "display_data",
          "data": {
            "text/plain": [
              "<Figure size 640x480 with 1 Axes>"
            ],
            "image/png": "[encoded data removed]"
          },
          "metadata": {}
        }
      ]
    },
    {
      "cell_type": "code",
      "source": [
        "# prompt: What is the average user rating for movie named \"Terminator 2: Judgment Day (1991)\"?\n",
        "\n",
        "movie_id = movies[movies['title'] == 'Terminator 2: Judgment Day (1991)']['movieId'].values[0]\n",
        "\n",
        "ratings[ratings['movieId'] == movie_id]['rating'].mean()\n"
      ],
      "metadata": {
        "colab": {
          "base_uri": "https://localhost:8080/"
        },
        "id": "d6rxT4frgIWn",
        "outputId": "4263e832-e03e-4dc8-f914-788097fa466e"
      },
      "execution_count": 61,
      "outputs": [
        {
          "output_type": "execute_result",
          "data": {
            "text/plain": [
              "3.970982142857143"
            ]
          },
          "metadata": {},
          "execution_count": 61
        }
      ]
    },
    {
      "cell_type": "code",
      "source": [
        "sci_fi_movies = movies[movies[\"genres\"].str.contains(\"Sci-Fi\")]\n",
        "\n",
        "# Find the movie with the highest rating\n",
        "highest_rated_sci_fi_movie = sci_fi_movies.loc[sci_fi_movies[\"rating\"].idxmax()]\n",
        "\n",
        "# Print the movie ID\n",
        "print(highest_rated_sci_fi_movie[\"movieId\"])"
      ],
      "metadata": {
        "colab": {
          "base_uri": "https://localhost:8080/"
        },
        "id": "X3JLWOG7gNMx",
        "outputId": "6e7966c4-f840-4e47-8c13-c8edef64dbd7"
      },
      "execution_count": 63,
      "outputs": [
        {
          "output_type": "stream",
          "name": "stdout",
          "text": [
            "24\n"
          ]
        }
      ]
    },
    {
      "cell_type": "code",
      "source": [
        "highest_rated_movie = movies.loc[movies[\"rating\"].idxmax()]\n",
        "\n",
        "# Print the movie ID\n",
        "print(highest_rated_movie[\"movieId\"])"
      ],
      "metadata": {
        "colab": {
          "base_uri": "https://localhost:8080/"
        },
        "id": "isLa3m4DckiE",
        "outputId": "63cd83e9-b579-4c3b-bec1-484538dc6405"
      },
      "execution_count": 64,
      "outputs": [
        {
          "output_type": "stream",
          "name": "stdout",
          "text": [
            "1\n"
          ]
        }
      ]
    },
    {
      "cell_type": "code",
      "source": [
        "\n",
        "sci_fi_movies = movies[movies[\"genres\"].str.contains(\"Sci-Fi\")]\n",
        "\n",
        "\n",
        "sci_fi_movies_sorted = sci_fi_movies.sort_values(by=\"rating\", ascending=False)\n",
        "\n",
        "third_most_popular = sci_fi_movies_sorted.iloc[2]\n",
        "\n",
        "\n",
        "print(third_most_popular[\"title\"])"
      ],
      "metadata": {
        "colab": {
          "base_uri": "https://localhost:8080/"
        },
        "id": "Zvr48bkQhSuy",
        "outputId": "70882241-8828-49f5-e64a-0b5f91c98345"
      },
      "execution_count": 71,
      "outputs": [
        {
          "output_type": "stream",
          "name": "stdout",
          "text": [
            "Moon (2009)\n"
          ]
        }
      ]
    },
    {
      "cell_type": "code",
      "source": [
        "\n",
        "movies_sorted = movies.sort_values(by=\"rating\", ascending=False)\n",
        "\n",
        "top_5_movies = movies_sorted.head(5)\n",
        "\n",
        "\n",
        "top_5_sci_fi_movies = top_5_movies[top_5_movies[\"genres\"].str.contains(\"Sci-Fi\")]\n",
        "\n",
        "print(\"Top 5 popular Sci-Fi movies based on user ratings:\")\n",
        "for title in top_5_sci_fi_movies[\"title\"]:\n",
        "    print(f\"\\t- {title}\")\n"
      ],
      "metadata": {
        "colab": {
          "base_uri": "https://localhost:8080/"
        },
        "id": "hUfHOmQEZB44",
        "outputId": "990e077e-30de-4164-ec13-bf3a77dac344"
      },
      "execution_count": 67,
      "outputs": [
        {
          "output_type": "stream",
          "name": "stdout",
          "text": [
            "Top 5 popular Sci-Fi movies based on user ratings:\n"
          ]
        }
      ]
    },
    {
      "cell_type": "code",
      "source": [
        "\n",
        "ratings[ratings['movieId']==1048575]['rating'].mean()\n"
      ],
      "metadata": {
        "colab": {
          "base_uri": "https://localhost:8080/"
        },
        "id": "RBtlQZ42ZB74",
        "outputId": "a37c1c6b-8ef1-4c96-bb72-008483b19435"
      },
      "execution_count": 23,
      "outputs": [
        {
          "output_type": "execute_result",
          "data": {
            "text/plain": [
              "nan"
            ]
          },
          "metadata": {},
          "execution_count": 23
        }
      ]
    },
    {
      "cell_type": "code",
      "source": [
        "\n",
        "fight_club_movie = movies[(movies[\"title\"] == \"Fight Club (1999)\") & (movies[\"genres\"].str.contains(\"Drama\"))]\n",
        "\n",
        "fight_club_ratings = fight_club_movie[\"rating\"]\n",
        "\n",
        "\n",
        "import matplotlib.pyplot as plt\n",
        "\n",
        "plt.hist(fight_club_ratings)\n",
        "plt.xlabel(\"User Rating\")\n",
        "plt.ylabel(\"Frequency\")\n",
        "plt.title(\"Distribution of User Ratings for Fight Club (1999)\")\n",
        "plt.show()\n"
      ],
      "metadata": {
        "colab": {
          "base_uri": "https://localhost:8080/",
          "height": 472
        },
        "id": "HSCuNZkmh81k",
        "outputId": "1d81f591-e283-47a0-8ba4-f59b9ead65cc"
      },
      "execution_count": 70,
      "outputs": [
        {
          "output_type": "display_data",
          "data": {
            "text/plain": [
              "<Figure size 640x480 with 1 Axes>"
            ],
            "image/png": "[encoded data removed]"
          },
          "metadata": {}
        }
      ]
    }
  ]
}